{
  "cells": [
    {
      "cell_type": "markdown",
      "metadata": {
        "id": "view-in-github",
        "colab_type": "text"
      },
      "source": [
        "<a href=\"https://colab.research.google.com/github/janpeter19/BPL_IEC_validation/blob/main/BPL_IEC_validation_fmpy_colab.ipynb\" target=\"_parent\"><img src=\"https://colab.research.google.com/assets/colab-badge.svg\" alt=\"Open In Colab\"/></a>"
      ]
    },
    {
      "cell_type": "markdown",
      "id": "f3b58bb0",
      "metadata": {
        "id": "f3b58bb0"
      },
      "source": [
        "# BPL_IEC_validation script with FMPy\n",
        "\n",
        "The key library FMPy is installed.\n",
        "\n",
        "After the installation a small application BPL_IEC_validation is loaded and run. You can continue with this example if you like."
      ]
    },
    {
      "cell_type": "code",
      "execution_count": 1,
      "id": "fb7f113d",
      "metadata": {
        "id": "fb7f113d",
        "outputId": "52537ab1-22d0-4820-eb50-e7d45b0256cf",
        "colab": {
          "base_uri": "https://localhost:8080/"
        }
      },
      "outputs": [
        {
          "output_type": "stream",
          "name": "stdout",
          "text": [
            "No LSB modules are available.\n",
            "Distributor ID:\tUbuntu\n",
            "Description:\tUbuntu 22.04.4 LTS\n",
            "Release:\t22.04\n",
            "Codename:\tjammy\n"
          ]
        }
      ],
      "source": [
        "!lsb_release -a # Actual VM Ubuntu version used by Google"
      ]
    },
    {
      "cell_type": "code",
      "source": [
        "!python --version"
      ],
      "metadata": {
        "id": "l1-8NUG_WKIM",
        "outputId": "1031cbe4-66ef-46ae-ff77-bed877fd6888",
        "colab": {
          "base_uri": "https://localhost:8080/"
        }
      },
      "id": "l1-8NUG_WKIM",
      "execution_count": 2,
      "outputs": [
        {
          "output_type": "stream",
          "name": "stdout",
          "text": [
            "Python 3.12.11\n"
          ]
        }
      ]
    },
    {
      "cell_type": "code",
      "execution_count": 3,
      "id": "a2369a46",
      "metadata": {
        "id": "a2369a46",
        "outputId": "acde8ed6-6800-4940-9715-38fae59dfb71",
        "colab": {
          "base_uri": "https://localhost:8080/"
        }
      },
      "outputs": [
        {
          "output_type": "stream",
          "name": "stdout",
          "text": [
            "Requirement already satisfied: fmpy in /usr/local/lib/python3.12/dist-packages (0.3.25)\n",
            "Requirement already satisfied: attrs>=24.2.0 in /usr/local/lib/python3.12/dist-packages (from fmpy) (25.3.0)\n",
            "Requirement already satisfied: jinja2>=3.1.4 in /usr/local/lib/python3.12/dist-packages (from fmpy) (3.1.6)\n",
            "Requirement already satisfied: lark>=1.2.2 in /usr/local/lib/python3.12/dist-packages (from fmpy) (1.2.2)\n",
            "Requirement already satisfied: lxml>=5.3.0 in /usr/local/lib/python3.12/dist-packages (from fmpy) (5.4.0)\n",
            "Requirement already satisfied: msgpack>=1.1.0 in /usr/local/lib/python3.12/dist-packages (from fmpy) (1.1.1)\n",
            "Requirement already satisfied: nbformat>=5.10.4 in /usr/local/lib/python3.12/dist-packages (from fmpy) (5.10.4)\n",
            "Requirement already satisfied: numpy>=2.1.3 in /usr/local/lib/python3.12/dist-packages (from fmpy) (2.3.2)\n",
            "Requirement already satisfied: MarkupSafe>=2.0 in /usr/local/lib/python3.12/dist-packages (from jinja2>=3.1.4->fmpy) (3.0.2)\n",
            "Requirement already satisfied: fastjsonschema>=2.15 in /usr/local/lib/python3.12/dist-packages (from nbformat>=5.10.4->fmpy) (2.21.2)\n",
            "Requirement already satisfied: jsonschema>=2.6 in /usr/local/lib/python3.12/dist-packages (from nbformat>=5.10.4->fmpy) (4.25.0)\n",
            "Requirement already satisfied: jupyter-core!=5.0.*,>=4.12 in /usr/local/lib/python3.12/dist-packages (from nbformat>=5.10.4->fmpy) (5.8.1)\n",
            "Requirement already satisfied: traitlets>=5.1 in /usr/local/lib/python3.12/dist-packages (from nbformat>=5.10.4->fmpy) (5.7.1)\n",
            "Requirement already satisfied: jsonschema-specifications>=2023.03.6 in /usr/local/lib/python3.12/dist-packages (from jsonschema>=2.6->nbformat>=5.10.4->fmpy) (2025.4.1)\n",
            "Requirement already satisfied: referencing>=0.28.4 in /usr/local/lib/python3.12/dist-packages (from jsonschema>=2.6->nbformat>=5.10.4->fmpy) (0.36.2)\n",
            "Requirement already satisfied: rpds-py>=0.7.1 in /usr/local/lib/python3.12/dist-packages (from jsonschema>=2.6->nbformat>=5.10.4->fmpy) (0.27.0)\n",
            "Requirement already satisfied: platformdirs>=2.5 in /usr/local/lib/python3.12/dist-packages (from jupyter-core!=5.0.*,>=4.12->nbformat>=5.10.4->fmpy) (4.3.8)\n",
            "Requirement already satisfied: typing-extensions>=4.4.0 in /usr/local/lib/python3.12/dist-packages (from referencing>=0.28.4->jsonschema>=2.6->nbformat>=5.10.4->fmpy) (4.14.1)\n"
          ]
        }
      ],
      "source": [
        "!pip install fmpy"
      ]
    },
    {
      "cell_type": "markdown",
      "id": "bd548daf",
      "metadata": {
        "id": "bd548daf"
      },
      "source": [
        "Now specific installation and the run simulations. Start with connecting to Github. Then upload the two files:\n",
        "\n",
        "* FMU - BPL_IEC_validation_linux_om_me.fmu\n",
        "* Setup-file - BPL_IEC_validation_fmpy_explore.py"
      ]
    },
    {
      "cell_type": "code",
      "execution_count": 4,
      "id": "449203b0",
      "metadata": {
        "id": "449203b0",
        "outputId": "309b0e5a-c954-4d44-d0c4-4a729f387c6c",
        "colab": {
          "base_uri": "https://localhost:8080/",
          "height": 339
        }
      },
      "outputs": [
        {
          "output_type": "stream",
          "name": "stderr",
          "text": [
            "fatal: destination path 'BPL_IEC_validation' already exists and is not an empty directory.\n"
          ]
        },
        {
          "output_type": "error",
          "ename": "CalledProcessError",
          "evalue": "Command 'b'git clone https://github.com/janpeter19/BPL_IEC_validation\\n'' returned non-zero exit status 128.",
          "traceback": [
            "\u001b[0;31m---------------------------------------------------------------------------\u001b[0m",
            "\u001b[0;31mCalledProcessError\u001b[0m                        Traceback (most recent call last)",
            "\u001b[0;32m/tmp/ipython-input-2751813567.py\u001b[0m in \u001b[0;36m<cell line: 0>\u001b[0;34m()\u001b[0m\n\u001b[0;32m----> 1\u001b[0;31m \u001b[0mget_ipython\u001b[0m\u001b[0;34m(\u001b[0m\u001b[0;34m)\u001b[0m\u001b[0;34m.\u001b[0m\u001b[0mrun_cell_magic\u001b[0m\u001b[0;34m(\u001b[0m\u001b[0;34m'bash'\u001b[0m\u001b[0;34m,\u001b[0m \u001b[0;34m''\u001b[0m\u001b[0;34m,\u001b[0m \u001b[0;34m'git clone https://github.com/janpeter19/BPL_IEC_validation\\n'\u001b[0m\u001b[0;34m)\u001b[0m\u001b[0;34m\u001b[0m\u001b[0;34m\u001b[0m\u001b[0m\n\u001b[0m",
            "\u001b[0;32m/usr/local/lib/python3.12/dist-packages/google/colab/_shell.py\u001b[0m in \u001b[0;36mrun_cell_magic\u001b[0;34m(self, magic_name, line, cell)\u001b[0m\n\u001b[1;32m    274\u001b[0m     \u001b[0;32mif\u001b[0m \u001b[0mline\u001b[0m \u001b[0;32mand\u001b[0m \u001b[0;32mnot\u001b[0m \u001b[0mcell\u001b[0m\u001b[0;34m:\u001b[0m\u001b[0;34m\u001b[0m\u001b[0;34m\u001b[0m\u001b[0m\n\u001b[1;32m    275\u001b[0m       \u001b[0mcell\u001b[0m \u001b[0;34m=\u001b[0m \u001b[0;34m' '\u001b[0m\u001b[0;34m\u001b[0m\u001b[0;34m\u001b[0m\u001b[0m\n\u001b[0;32m--> 276\u001b[0;31m     \u001b[0;32mreturn\u001b[0m \u001b[0msuper\u001b[0m\u001b[0;34m(\u001b[0m\u001b[0;34m)\u001b[0m\u001b[0;34m.\u001b[0m\u001b[0mrun_cell_magic\u001b[0m\u001b[0;34m(\u001b[0m\u001b[0mmagic_name\u001b[0m\u001b[0;34m,\u001b[0m \u001b[0mline\u001b[0m\u001b[0;34m,\u001b[0m \u001b[0mcell\u001b[0m\u001b[0;34m)\u001b[0m\u001b[0;34m\u001b[0m\u001b[0;34m\u001b[0m\u001b[0m\n\u001b[0m\u001b[1;32m    277\u001b[0m \u001b[0;34m\u001b[0m\u001b[0m\n\u001b[1;32m    278\u001b[0m \u001b[0;34m\u001b[0m\u001b[0m\n",
            "\u001b[0;32m/usr/local/lib/python3.12/dist-packages/IPython/core/interactiveshell.py\u001b[0m in \u001b[0;36mrun_cell_magic\u001b[0;34m(self, magic_name, line, cell)\u001b[0m\n\u001b[1;32m   2471\u001b[0m             \u001b[0;32mwith\u001b[0m \u001b[0mself\u001b[0m\u001b[0;34m.\u001b[0m\u001b[0mbuiltin_trap\u001b[0m\u001b[0;34m:\u001b[0m\u001b[0;34m\u001b[0m\u001b[0;34m\u001b[0m\u001b[0m\n\u001b[1;32m   2472\u001b[0m                 \u001b[0margs\u001b[0m \u001b[0;34m=\u001b[0m \u001b[0;34m(\u001b[0m\u001b[0mmagic_arg_s\u001b[0m\u001b[0;34m,\u001b[0m \u001b[0mcell\u001b[0m\u001b[0;34m)\u001b[0m\u001b[0;34m\u001b[0m\u001b[0;34m\u001b[0m\u001b[0m\n\u001b[0;32m-> 2473\u001b[0;31m                 \u001b[0mresult\u001b[0m \u001b[0;34m=\u001b[0m \u001b[0mfn\u001b[0m\u001b[0;34m(\u001b[0m\u001b[0;34m*\u001b[0m\u001b[0margs\u001b[0m\u001b[0;34m,\u001b[0m \u001b[0;34m**\u001b[0m\u001b[0mkwargs\u001b[0m\u001b[0;34m)\u001b[0m\u001b[0;34m\u001b[0m\u001b[0;34m\u001b[0m\u001b[0m\n\u001b[0m\u001b[1;32m   2474\u001b[0m             \u001b[0;32mreturn\u001b[0m \u001b[0mresult\u001b[0m\u001b[0;34m\u001b[0m\u001b[0;34m\u001b[0m\u001b[0m\n\u001b[1;32m   2475\u001b[0m \u001b[0;34m\u001b[0m\u001b[0m\n",
            "\u001b[0;32m/usr/local/lib/python3.12/dist-packages/IPython/core/magics/script.py\u001b[0m in \u001b[0;36mnamed_script_magic\u001b[0;34m(line, cell)\u001b[0m\n\u001b[1;32m    140\u001b[0m             \u001b[0;32melse\u001b[0m\u001b[0;34m:\u001b[0m\u001b[0;34m\u001b[0m\u001b[0;34m\u001b[0m\u001b[0m\n\u001b[1;32m    141\u001b[0m                 \u001b[0mline\u001b[0m \u001b[0;34m=\u001b[0m \u001b[0mscript\u001b[0m\u001b[0;34m\u001b[0m\u001b[0;34m\u001b[0m\u001b[0m\n\u001b[0;32m--> 142\u001b[0;31m             \u001b[0;32mreturn\u001b[0m \u001b[0mself\u001b[0m\u001b[0;34m.\u001b[0m\u001b[0mshebang\u001b[0m\u001b[0;34m(\u001b[0m\u001b[0mline\u001b[0m\u001b[0;34m,\u001b[0m \u001b[0mcell\u001b[0m\u001b[0;34m)\u001b[0m\u001b[0;34m\u001b[0m\u001b[0;34m\u001b[0m\u001b[0m\n\u001b[0m\u001b[1;32m    143\u001b[0m \u001b[0;34m\u001b[0m\u001b[0m\n\u001b[1;32m    144\u001b[0m         \u001b[0;31m# write a basic docstring:\u001b[0m\u001b[0;34m\u001b[0m\u001b[0;34m\u001b[0m\u001b[0m\n",
            "\u001b[0;32m<decorator-gen-103>\u001b[0m in \u001b[0;36mshebang\u001b[0;34m(self, line, cell)\u001b[0m\n",
            "\u001b[0;32m/usr/local/lib/python3.12/dist-packages/IPython/core/magic.py\u001b[0m in \u001b[0;36m<lambda>\u001b[0;34m(f, *a, **k)\u001b[0m\n\u001b[1;32m    185\u001b[0m     \u001b[0;31m# but it's overkill for just that one bit of state.\u001b[0m\u001b[0;34m\u001b[0m\u001b[0;34m\u001b[0m\u001b[0m\n\u001b[1;32m    186\u001b[0m     \u001b[0;32mdef\u001b[0m \u001b[0mmagic_deco\u001b[0m\u001b[0;34m(\u001b[0m\u001b[0marg\u001b[0m\u001b[0;34m)\u001b[0m\u001b[0;34m:\u001b[0m\u001b[0;34m\u001b[0m\u001b[0;34m\u001b[0m\u001b[0m\n\u001b[0;32m--> 187\u001b[0;31m         \u001b[0mcall\u001b[0m \u001b[0;34m=\u001b[0m \u001b[0;32mlambda\u001b[0m \u001b[0mf\u001b[0m\u001b[0;34m,\u001b[0m \u001b[0;34m*\u001b[0m\u001b[0ma\u001b[0m\u001b[0;34m,\u001b[0m \u001b[0;34m**\u001b[0m\u001b[0mk\u001b[0m\u001b[0;34m:\u001b[0m \u001b[0mf\u001b[0m\u001b[0;34m(\u001b[0m\u001b[0;34m*\u001b[0m\u001b[0ma\u001b[0m\u001b[0;34m,\u001b[0m \u001b[0;34m**\u001b[0m\u001b[0mk\u001b[0m\u001b[0;34m)\u001b[0m\u001b[0;34m\u001b[0m\u001b[0;34m\u001b[0m\u001b[0m\n\u001b[0m\u001b[1;32m    188\u001b[0m \u001b[0;34m\u001b[0m\u001b[0m\n\u001b[1;32m    189\u001b[0m         \u001b[0;32mif\u001b[0m \u001b[0mcallable\u001b[0m\u001b[0;34m(\u001b[0m\u001b[0marg\u001b[0m\u001b[0;34m)\u001b[0m\u001b[0;34m:\u001b[0m\u001b[0;34m\u001b[0m\u001b[0;34m\u001b[0m\u001b[0m\n",
            "\u001b[0;32m/usr/local/lib/python3.12/dist-packages/IPython/core/magics/script.py\u001b[0m in \u001b[0;36mshebang\u001b[0;34m(self, line, cell)\u001b[0m\n\u001b[1;32m    243\u001b[0m             \u001b[0msys\u001b[0m\u001b[0;34m.\u001b[0m\u001b[0mstderr\u001b[0m\u001b[0;34m.\u001b[0m\u001b[0mflush\u001b[0m\u001b[0;34m(\u001b[0m\u001b[0;34m)\u001b[0m\u001b[0;34m\u001b[0m\u001b[0;34m\u001b[0m\u001b[0m\n\u001b[1;32m    244\u001b[0m         \u001b[0;32mif\u001b[0m \u001b[0margs\u001b[0m\u001b[0;34m.\u001b[0m\u001b[0mraise_error\u001b[0m \u001b[0;32mand\u001b[0m \u001b[0mp\u001b[0m\u001b[0;34m.\u001b[0m\u001b[0mreturncode\u001b[0m\u001b[0;34m!=\u001b[0m\u001b[0;36m0\u001b[0m\u001b[0;34m:\u001b[0m\u001b[0;34m\u001b[0m\u001b[0;34m\u001b[0m\u001b[0m\n\u001b[0;32m--> 245\u001b[0;31m             \u001b[0;32mraise\u001b[0m \u001b[0mCalledProcessError\u001b[0m\u001b[0;34m(\u001b[0m\u001b[0mp\u001b[0m\u001b[0;34m.\u001b[0m\u001b[0mreturncode\u001b[0m\u001b[0;34m,\u001b[0m \u001b[0mcell\u001b[0m\u001b[0;34m,\u001b[0m \u001b[0moutput\u001b[0m\u001b[0;34m=\u001b[0m\u001b[0mout\u001b[0m\u001b[0;34m,\u001b[0m \u001b[0mstderr\u001b[0m\u001b[0;34m=\u001b[0m\u001b[0merr\u001b[0m\u001b[0;34m)\u001b[0m\u001b[0;34m\u001b[0m\u001b[0;34m\u001b[0m\u001b[0m\n\u001b[0m\u001b[1;32m    246\u001b[0m \u001b[0;34m\u001b[0m\u001b[0m\n\u001b[1;32m    247\u001b[0m     \u001b[0;32mdef\u001b[0m \u001b[0m_run_script\u001b[0m\u001b[0;34m(\u001b[0m\u001b[0mself\u001b[0m\u001b[0;34m,\u001b[0m \u001b[0mp\u001b[0m\u001b[0;34m,\u001b[0m \u001b[0mcell\u001b[0m\u001b[0;34m,\u001b[0m \u001b[0mto_close\u001b[0m\u001b[0;34m)\u001b[0m\u001b[0;34m:\u001b[0m\u001b[0;34m\u001b[0m\u001b[0;34m\u001b[0m\u001b[0m\n",
            "\u001b[0;31mCalledProcessError\u001b[0m: Command 'b'git clone https://github.com/janpeter19/BPL_IEC_validation\\n'' returned non-zero exit status 128."
          ]
        }
      ],
      "source": [
        "%%bash\n",
        "git clone https://github.com/janpeter19/BPL_IEC_validation"
      ]
    },
    {
      "cell_type": "code",
      "execution_count": null,
      "id": "4271a553",
      "metadata": {
        "id": "4271a553"
      },
      "outputs": [],
      "source": [
        "%cd BPL_IEC_validation"
      ]
    },
    {
      "cell_type": "markdown",
      "id": "509cb9ac",
      "metadata": {
        "id": "509cb9ac"
      },
      "source": [
        "# BPL IEC validation\n",
        "\n",
        "Author: Jan Peter Axelsson\n",
        "\n",
        "Here I try to reproduce somre results from Jonas Månssons master thesis report \"Control of chromatography comlumn in production scale\", TFRT-5599.\n",
        "\n",
        "The interaction withe the model has changed slightly so that linear flow rate LF = F/area is used. The column volume is now specified in terms of (cross-section) area times height. Thus by changing area the scale up works fine and what you do in practice. Further the time unit changed from seconds to minutes.\n",
        "\n",
        "The model has 5 states as listed below, 3 states in liquid mobile phase and 2 states for the gel for bound proteins. In a few of Jonas figures also bound ions of the buffer are plotted but I do not do that. Bound ions of the buffer can be calculated from the difference of total binding capaciety $Q_{av}$ and bound protein and bound protein antagonist, see section 5.1 in the report.\n",
        "\n",
        "The molecular weights listed below are not used in the simulations. They just give typical values and the molecular weight for bound protein and antagonist protein is just arbitrary here.\n",
        "\n",
        "Parameters of the model in general as well as time scale are all arbitrary and focus is on qualitative aspects of the model.\n",
        "\n",
        "The height of the column is 20 cm which is a common size in the industry."
      ]
    },
    {
      "cell_type": "code",
      "execution_count": null,
      "id": "80b5b7ff",
      "metadata": {
        "id": "80b5b7ff"
      },
      "outputs": [],
      "source": [
        "run -i BPL_IEC_fmpy_explore.py"
      ]
    },
    {
      "cell_type": "code",
      "execution_count": null,
      "id": "15fa3f3f",
      "metadata": {
        "id": "15fa3f3f"
      },
      "outputs": [],
      "source": [
        "plt.rcParams['figure.figsize'] = [30/2.54, 24/2.54]"
      ]
    },
    {
      "cell_type": "code",
      "source": [
        "# The process diagram is made outside Modelica to illustrate the configuration\n",
        "process_diagram()"
      ],
      "metadata": {
        "id": "xi6rdRlWq-O_"
      },
      "id": "xi6rdRlWq-O_",
      "execution_count": null,
      "outputs": []
    },
    {
      "cell_type": "code",
      "source": [
        "describe('chromatography'); print(); #describe('liquidphase')"
      ],
      "metadata": {
        "id": "aok8xK8LrDM2"
      },
      "id": "aok8xK8LrDM2",
      "execution_count": null,
      "outputs": []
    },
    {
      "cell_type": "markdown",
      "id": "cd18d531",
      "metadata": {
        "id": "cd18d531"
      },
      "source": [
        "## Loading or adsorption\n",
        "\n",
        "The parameter notation and values are the same as in the referred report. However the flow rate is here denoted F while q in the report. The column is diveded in n=8 sections and set at compilation time. The values are arbitrarly chosen in the report and the focus is on qualitative aspects of the model.\n",
        "\n",
        "The simplified model describe only the column in terms of volume and does not distinguish a high column with a small diameter from a lower with larger diameter.\n",
        "\n",
        "The parameters k1, k2, k3, k4 and Q_av are given relative volume and with increased column volume a larger capacity is thus obtained."
      ]
    },
    {
      "cell_type": "code",
      "execution_count": null,
      "id": "82923d8e-dc15-4271-9a1d-ded06fcde606",
      "metadata": {
        "id": "82923d8e-dc15-4271-9a1d-ded06fcde606"
      },
      "outputs": [],
      "source": [
        "# Loading of the column - try to reproduce Jonas figure 13.\n",
        "newplot(title='Adsorption along the column during loading', plotType='Loading')\n",
        "\n",
        "# Sample\n",
        "par(P_in=1.0, A_in=1.0, E_in=0)\n",
        "\n",
        "# Column properties\n",
        "par(k1=0.3, k2=0.05, k3=0.05, k4=0.3, Q_av=3.0)\n",
        "par(height=20, diameter=0.714)\n",
        "par(x_m=0.3)\n",
        "\n",
        "# Operation\n",
        "par(E_in_desorption_buffer=8)\n",
        "par(LFR=12)\n",
        "#par(scale_volume=False)\n",
        "par(start_adsorption=0, stop_adsorption=50)\n",
        "par(start_desorption=150, stationary_desorption=450)\n",
        "par(start_pooling=220, stop_pooling=450)\n",
        "\n",
        "# Simulation\n",
        "simu(100)"
      ]
    },
    {
      "cell_type": "markdown",
      "source": [
        "The results are the same af Figure 13 in [1]."
      ],
      "metadata": {
        "id": "UbJZy-HLrUKi"
      },
      "id": "UbJZy-HLrUKi"
    },
    {
      "cell_type": "code",
      "execution_count": null,
      "id": "7764c36e-d1d4-4a81-b6ba-b96221ae6b15",
      "metadata": {
        "id": "7764c36e-d1d4-4a81-b6ba-b96221ae6b15"
      },
      "outputs": [],
      "source": [
        "# We just check that we had the same volume flow rate as Jonas\n",
        "#describe('F')"
      ]
    },
    {
      "cell_type": "code",
      "source": [
        "describe('V')"
      ],
      "metadata": {
        "id": "k_qScJSurjHy"
      },
      "id": "k_qScJSurjHy",
      "execution_count": null,
      "outputs": []
    },
    {
      "cell_type": "code",
      "source": [
        "model_get('column.x_m')"
      ],
      "metadata": {
        "id": "5Erub_6drmpz"
      },
      "id": "5Erub_6drmpz",
      "execution_count": null,
      "outputs": []
    },
    {
      "cell_type": "code",
      "source": [
        "model_get('column.V_m')"
      ],
      "metadata": {
        "id": "YATxNkz3rpYI"
      },
      "id": "YATxNkz3rpYI",
      "execution_count": null,
      "outputs": []
    },
    {
      "cell_type": "code",
      "source": [
        "describe('column.n')"
      ],
      "metadata": {
        "id": "8NUNoSsKrrjA"
      },
      "id": "8NUNoSsKrrjA",
      "execution_count": null,
      "outputs": []
    },
    {
      "cell_type": "code",
      "source": [
        "model_get('column.column_section[1].V_m')"
      ],
      "metadata": {
        "id": "-Itw_Uhrrt89"
      },
      "id": "-Itw_Uhrrt89",
      "execution_count": null,
      "outputs": []
    },
    {
      "cell_type": "code",
      "source": [
        "# Impact of shorter time for loading and then less material\n",
        "newplot(title='Loading', plotType='Loading-combined')\n",
        "show()\n",
        "\n",
        "# Simulation with changed parameter t2\n",
        "par(stop_adsorption=30); simu(100)\n",
        "\n",
        "# Reset changed parameter\n",
        "par(stop_adsorption=50)"
      ],
      "metadata": {
        "id": "SU1sQLjHrwNA"
      },
      "id": "SU1sQLjHrwNA",
      "execution_count": null,
      "outputs": []
    },
    {
      "cell_type": "markdown",
      "source": [
        "To the left the inlet loading over time.\n",
        "To the right upper concentration along the column at different times and in steady states finally\n",
        "To the right lower concentrations along the colunn in steady state.\n",
        "\n",
        "We see that a shorter time and then less material makes less of the column capacity used.\n",
        "\n",
        "Note that the flow through the column is constant despite change from sample to just buffer 1, and shown in how the volume of the waste tank increase with time."
      ],
      "metadata": {
        "id": "Egx26ipqrzxn"
      },
      "id": "Egx26ipqrzxn"
    },
    {
      "cell_type": "markdown",
      "source": [
        "## Elution or desorption"
      ],
      "metadata": {
        "id": "1mGEENDQr4_J"
      },
      "id": "1mGEENDQr4_J"
    },
    {
      "cell_type": "code",
      "source": [
        "# Elution of the column\n",
        "newplot(title='Elution peaks', plotType='Elution')\n",
        "\n",
        "# Sample\n",
        "par(P_in=1, A_in=1.0, E_in=0)\n",
        "\n",
        "# Operation\n",
        "par(E_in_desorption_buffer=8)\n",
        "par(LFR=12.0, start_adsorption=0, stop_adsorption=50, start_desorption=150, stationary_desorption=450)\n",
        "\n",
        "# Simulation\n",
        "simu(550)"
      ],
      "metadata": {
        "id": "SnI5I_JJsCdI"
      },
      "id": "SnI5I_JJsCdI",
      "execution_count": null,
      "outputs": []
    },
    {
      "cell_type": "markdown",
      "source": [
        "The results are the same af Figure 14 in [1].\n",
        "\n",
        "The upper diagrams shows the column outlet concentrations of P and A over time.\n",
        "\n",
        "The lower diagram shows the sum (or possibly the UV signal) at column outlet as well as the salt concentration. We have some separation between the two peaks.\n",
        "\n",
        "Note that the salt concentration deviates slightly from the linear increse between time 50 to 100. This is due to ion interaction with P and A in the column. This is phenomenon can also be seen in real data.\n",
        "The ion-salt concentration is scaled with factor 0.05 to get comparable concentrations to P and A.\n",
        "\n",
        "I have here simulated time 150 of adsorbtion and then started elution. Here is time counted as zero at time of start of elutions. Not sure how long Jonas simulated to get steady state before he did elution."
      ],
      "metadata": {
        "id": "yid15KqEsHPh"
      },
      "id": "yid15KqEsHPh"
    },
    {
      "cell_type": "code",
      "source": [
        "# More complete visualization of the elution phase and the different flows\n",
        "newplot(title='Elution and corresponding flows for two different loadings', plotType='Elution-combined')\n",
        "par(stop_adsorption=50); simu(550)\n",
        "\n",
        "# Simulation with changed parameter t2\n",
        "par(stop_adsorption=30); simu(550)\n",
        "\n",
        "# Reset changed parameter\n",
        "par(stop_adsorption=50)"
      ],
      "metadata": {
        "id": "gqYRGeQxsJXO"
      },
      "id": "gqYRGeQxsJXO",
      "execution_count": null,
      "outputs": []
    },
    {
      "cell_type": "markdown",
      "source": [
        "Here a diagram that shows the peaks at the outlet as shown in the previous diagram. Below the flow rates of the three differnet sorces. Here time is 0 at start of adsorbtion and elution starts at time 150.\n",
        "\n",
        "Automatic pooling based on UV-mmeasurement is tested in another notebook."
      ],
      "metadata": {
        "id": "2STf27mXsMhv"
      },
      "id": "2STf27mXsMhv"
    },
    {
      "cell_type": "markdown",
      "source": [
        "## Change of resin properties"
      ],
      "metadata": {
        "id": "kATKVPbesRl4"
      },
      "id": "kATKVPbesRl4"
    },
    {
      "cell_type": "code",
      "source": [
        "# Elution of the column\n",
        "newplot(title='Elution peaks for different resin parameters k1 and k2', plotType='Elution')\n",
        "\n",
        "# Sample\n",
        "par(P_in=1, A_in=0.0, E_in=0)\n",
        "\n",
        "# Operation\n",
        "par(E_in_desorption_buffer=8)\n",
        "par(LFR=12.0, start_adsorption=0, stop_adsorption=50, start_desorption=150, stationary_desorption=450)\n",
        "\n",
        "# Simulations\n",
        "par(k1=0.05, k2=0.50); simu(550)\n",
        "par(k1=0.05, k2=0.25); simu(550)\n",
        "par(k1=0.05, k2=0.05); simu(550)\n",
        "par(k1=0.25, k2=0.05); simu(550)\n",
        "par(k1=0.50, k2=0.05); simu(550)\n",
        "\n",
        "# Adjust diagrams\n",
        "ax1.set_ylim([0, 0.65])\n",
        "ax2.set_ylim([0, 0.65])\n",
        "plt.show()"
      ],
      "metadata": {
        "id": "tGBmejiPsWKu"
      },
      "id": "tGBmejiPsWKu",
      "execution_count": null,
      "outputs": []
    },
    {
      "cell_type": "markdown",
      "source": [
        "The results are the same af Figure 17 in [1]."
      ],
      "metadata": {
        "id": "r-bUvujAsbxT"
      },
      "id": "r-bUvujAsbxT"
    },
    {
      "cell_type": "markdown",
      "source": [
        "## Summary\n",
        "Three important diagrams Figure 13, 14 and 17 in the original report [1] were reproduced and the implementation in Modelica used here is considered validated.\n",
        "\n",
        "The model is now extended with an improved parametrization of the column that match the industrial practice."
      ],
      "metadata": {
        "id": "rJ4mGm6Ssdq5"
      },
      "id": "rJ4mGm6Ssdq5"
    },
    {
      "cell_type": "markdown",
      "source": [
        "## Acknowledgement\n",
        "\n",
        "The author thank Karl Johan Brink for sharing his know-how of chromatography operation.\n",
        "He has especially given input to how to parametrize the model in terms often used in the industrial practice."
      ],
      "metadata": {
        "id": "ddU3blkosiFy"
      },
      "id": "ddU3blkosiFy"
    },
    {
      "cell_type": "markdown",
      "id": "80aab73a-95e4-4e4a-8fc2-e7e81a51d721",
      "metadata": {
        "id": "80aab73a-95e4-4e4a-8fc2-e7e81a51d721"
      },
      "source": [
        "## References\n",
        "\n",
        "1) Månsson, Jonas, \"Control of chromatography comlumn in production scale\", Master thesis TFRT-5599, Department of Automatic Control, LTH, Lund Sweden, 1998.\n",
        "\n",
        "2) Pharmacia LKB Biotechnology. \"Ion Exchange chromatography. Principles and Methods.\", 3rd edition, 1991.\n",
        "3) Jungbauer, Alois and Giorgio Carta, \"Protein Chromatography: Process Development\n",
        "and Scale-Up\", Wiley 2nd edition, 2020."
      ]
    },
    {
      "cell_type": "markdown",
      "id": "fee8a68e-fc8e-4c4c-9a2b-af1bdcc2c84d",
      "metadata": {
        "id": "fee8a68e-fc8e-4c4c-9a2b-af1bdcc2c84d"
      },
      "source": [
        "## Appendix"
      ]
    },
    {
      "cell_type": "code",
      "source": [
        "describe('MSL')"
      ],
      "metadata": {
        "id": "rRv_BA7usvtd"
      },
      "id": "rRv_BA7usvtd",
      "execution_count": null,
      "outputs": []
    },
    {
      "cell_type": "code",
      "execution_count": null,
      "id": "9e1ac401",
      "metadata": {
        "id": "9e1ac401"
      },
      "outputs": [],
      "source": [
        "system_info()"
      ]
    },
    {
      "cell_type": "code",
      "execution_count": null,
      "id": "70f44e61-3728-4956-bd78-5a176c9f624c",
      "metadata": {
        "id": "70f44e61-3728-4956-bd78-5a176c9f624c"
      },
      "outputs": [],
      "source": []
    }
  ],
  "metadata": {
    "kernelspec": {
      "display_name": "Python 3 (ipykernel)",
      "language": "python",
      "name": "python3"
    },
    "language_info": {
      "codemirror_mode": {
        "name": "ipython",
        "version": 3
      },
      "file_extension": ".py",
      "mimetype": "text/x-python",
      "name": "python",
      "nbconvert_exporter": "python",
      "pygments_lexer": "ipython3",
      "version": "3.8.16"
    },
    "colab": {
      "provenance": [],
      "include_colab_link": true
    }
  },
  "nbformat": 4,
  "nbformat_minor": 5
}