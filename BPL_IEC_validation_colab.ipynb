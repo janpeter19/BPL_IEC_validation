{
 "cells": [
  {
   "cell_type": "markdown",
   "id": "6df7667c",
   "metadata": {},
   "source": [
    "# BPL IEC validation\n",
    "\n",
    "Author: Jan Peter Axelsson\n",
    "\n",
    "Here I try to reproduce somre results from Jonas Månssons master thesis report \"Control of chromatography comlumn in production scale\", TFRT-5599.\n",
    "\n",
    "The interaction withe the model has changed slightly so that linear flow rate LF = F/area is used. The column volume is now specified in terms of (cross-section) area times height. Thus by changing area the scale up works fine and what you do in practice. Further the time unit changed from seconds to minutes.\n",
    "\n",
    "The model has 5 states as listed below, 3 states in liquid mobile phase and 2 states for the gel for bound proteins. In a few of Jonas figures also bound ions of the buffer are plotted but I do not do that. Bound ions of the buffer can be calculated from the difference of total binding capaciety $Q_{av}$ and bound protein and bound protein antagonist, see section 5.1 in the report.\n",
    "\n",
    "The molecular weights listed below are not used in the simulations. They just give typical values and the molecular weight for bound protein and antagonist protein is just arbitrary here.\n",
    "\n",
    "Parameters of the model in general as well as time scale are all arbitrary and focus is on qualitative aspects of the model.\n",
    "\n",
    "The height of the column is 20 cm which is a common size in the industry."
   ]
  },
  {
   "cell_type": "code",
   "execution_count": 1,
   "id": "ee37267c",
   "metadata": {},
   "outputs": [
    {
     "name": "stdout",
     "output_type": "stream",
     "text": [
      "Linux - run FMU pre-comiled OpenModelica 1.21.0\n",
      "\n",
      "Model for bioreactor has been setup. Key commands:\n",
      " - par()       - change of parameters and initial values\n",
      " - init()      - change initial values only\n",
      " - simu()      - simulate and plot\n",
      " - newplot()   - make a new plot\n",
      " - show()      - show plot from previous simulation\n",
      " - disp()      - display parameters and initial values from the last simulation\n",
      " - describe()  - describe culture, broth, parameters, variables with values/units\n",
      "\n",
      "Note that both disp() and describe() takes values from the last simulation\n",
      "\n",
      "Brief information about a command by help(), eg help(simu)\n",
      "Key system information is listed with the command system_info()\n"
     ]
    }
   ],
   "source": [
    "run -i BPL_IEC_explore.py"
   ]
  },
  {
   "cell_type": "code",
   "execution_count": 2,
   "id": "2491016b",
   "metadata": {},
   "outputs": [],
   "source": [
    " plt.rcParams['figure.figsize'] = [30/2.54, 24/2.54]"
   ]
  },
  {
   "cell_type": "code",
   "execution_count": 3,
   "id": "7995f68a",
   "metadata": {},
   "outputs": [
    {
     "name": "stdout",
     "output_type": "stream",
     "text": [
      "Ion exchange chromatorgraphy controlled with varying salt-concentration. The pH is kept constant.\n",
      "\n"
     ]
    },
    {
     "ename": "FMUException",
     "evalue": "The variable b'liquidphase.P' could not be found.",
     "output_type": "error",
     "traceback": [
      "\u001b[0;31m---------------------------------------------------------------------------\u001b[0m",
      "\u001b[0;31mFMUException\u001b[0m                              Traceback (most recent call last)",
      "Cell \u001b[0;32mIn[3], line 1\u001b[0m\n\u001b[0;32m----> 1\u001b[0m describe(\u001b[38;5;124m'\u001b[39m\u001b[38;5;124mchromatography\u001b[39m\u001b[38;5;124m'\u001b[39m); \u001b[38;5;28mprint\u001b[39m(); describe(\u001b[38;5;124m'\u001b[39m\u001b[38;5;124mliquidphase\u001b[39m\u001b[38;5;124m'\u001b[39m)\n",
      "File \u001b[0;32m/media/sf_Modelica/Github/Colab/BPL_IEC_validation/BPL_IEC_explore.py:1001\u001b[0m, in \u001b[0;36mdescribe\u001b[0;34m(name, decimals)\u001b[0m\n\u001b[1;32m    998\u001b[0m    \u001b[38;5;28mprint\u001b[39m(\u001b[38;5;124m'\u001b[39m\u001b[38;5;124mIon exchange chromatorgraphy controlled with varying salt-concentration. The pH is kept constant.\u001b[39m\u001b[38;5;124m'\u001b[39m)        \n\u001b[1;32m   1000\u001b[0m \u001b[38;5;28;01melif\u001b[39;00m name \u001b[38;5;129;01min\u001b[39;00m [\u001b[38;5;124m'\u001b[39m\u001b[38;5;124mliquidphase\u001b[39m\u001b[38;5;124m'\u001b[39m, \u001b[38;5;124m'\u001b[39m\u001b[38;5;124mmedia\u001b[39m\u001b[38;5;124m'\u001b[39m]:\n\u001b[0;32m-> 1001\u001b[0m    P \u001b[38;5;241m=\u001b[39m \u001b[43mmodel\u001b[49m\u001b[38;5;241;43m.\u001b[39;49m\u001b[43mget\u001b[49m\u001b[43m(\u001b[49m\u001b[38;5;124;43m'\u001b[39;49m\u001b[38;5;124;43mliquidphase.P\u001b[39;49m\u001b[38;5;124;43m'\u001b[39;49m\u001b[43m)\u001b[49m[\u001b[38;5;241m0\u001b[39m]; P_description \u001b[38;5;241m=\u001b[39m model\u001b[38;5;241m.\u001b[39mget_variable_description(\u001b[38;5;124m'\u001b[39m\u001b[38;5;124mliquidphase.P\u001b[39m\u001b[38;5;124m'\u001b[39m); \n\u001b[1;32m   1002\u001b[0m    P_mw \u001b[38;5;241m=\u001b[39m model\u001b[38;5;241m.\u001b[39mget(\u001b[38;5;124m'\u001b[39m\u001b[38;5;124mliquidphase.mw[1]\u001b[39m\u001b[38;5;124m'\u001b[39m)[\u001b[38;5;241m0\u001b[39m]\n\u001b[1;32m   1003\u001b[0m    A \u001b[38;5;241m=\u001b[39m model\u001b[38;5;241m.\u001b[39mget(\u001b[38;5;124m'\u001b[39m\u001b[38;5;124mliquidphase.A\u001b[39m\u001b[38;5;124m'\u001b[39m)[\u001b[38;5;241m0\u001b[39m]; A_description \u001b[38;5;241m=\u001b[39m model\u001b[38;5;241m.\u001b[39mget_variable_description(\u001b[38;5;124m'\u001b[39m\u001b[38;5;124mliquidphase.A\u001b[39m\u001b[38;5;124m'\u001b[39m); \n",
      "File \u001b[0;32msrc/pyfmi/fmi.pyx:303\u001b[0m, in \u001b[0;36mpyfmi.fmi.ModelBase.get\u001b[0;34m()\u001b[0m\n",
      "File \u001b[0;32msrc/pyfmi/fmi.pyx:4541\u001b[0m, in \u001b[0;36mpyfmi.fmi.FMUModelBase2._get\u001b[0;34m()\u001b[0m\n",
      "File \u001b[0;32msrc/pyfmi/fmi.pyx:5350\u001b[0m, in \u001b[0;36mpyfmi.fmi.FMUModelBase2.get_variable_valueref\u001b[0;34m()\u001b[0m\n",
      "\u001b[0;31mFMUException\u001b[0m: The variable b'liquidphase.P' could not be found."
     ]
    }
   ],
   "source": [
    "describe('chromatography'); print(); describe('liquidphase')"
   ]
  },
  {
   "cell_type": "markdown",
   "id": "4ae8f5d5",
   "metadata": {},
   "source": [
    "## Loading\n",
    "\n",
    "The parameter notation and values are the same as in the referred report. However the flow rate is here denoted F while q in the report. The column is diveded in n=8 sections and set at compilation time. The values are arbitrarly chosen in the report and the focus is on qualitative aspects of the model.\n",
    "\n",
    "The simplified model describe only the column in terms of volume and does not distinguish a high column with a small diameter from a lower with larger diameter.\n",
    "\n",
    "The parameters k1, k2, k3, k4 and Q_av are given relative volume and with increased column volume a larger capacity is thus obtained."
   ]
  },
  {
   "cell_type": "code",
   "execution_count": null,
   "id": "f22b87f5",
   "metadata": {},
   "outputs": [],
   "source": [
    "describe('column.n')"
   ]
  },
  {
   "cell_type": "code",
   "execution_count": null,
   "id": "6b573e80",
   "metadata": {},
   "outputs": [],
   "source": [
    "# Loading of the column - try to reproduce Jonas figure 13.\n",
    "newplot(title='Adsorption along the column during loading', plotType='Loading') \n",
    "\n",
    "# Column properties \n",
    "par(LFR=12.0)\n",
    "par(k1=0.3, k2=0.05, k3=0.05, k4=0.3, Q_av=3.0)\n",
    "par(height=20, diameter=0.714)\n",
    "\n",
    "# Operation\n",
    "par(P_in=1.0, A_in=1.0, E_in=8)\n",
    "par(scale_volume=False, stop_adsorption=50, start_desorption=150, stop_desorption=450)\n",
    "par(start_pooling=220, stop_pooling=450)\n",
    "\n",
    "# Simulation\n",
    "simu(100)"
   ]
  },
  {
   "cell_type": "code",
   "execution_count": null,
   "id": "925dc4f7",
   "metadata": {},
   "outputs": [],
   "source": [
    "parDict"
   ]
  },
  {
   "cell_type": "code",
   "execution_count": null,
   "id": "b7752684",
   "metadata": {},
   "outputs": [],
   "source": [
    "# We just check that we had the same volume flow rate as Jonas\n",
    "describe('F')"
   ]
  },
  {
   "cell_type": "markdown",
   "id": "ed845b05",
   "metadata": {},
   "source": [
    "Looks like Figure 13 in Jonas report!"
   ]
  },
  {
   "cell_type": "code",
   "execution_count": null,
   "id": "2062a433",
   "metadata": {},
   "outputs": [],
   "source": [
    "# Impact of shorter time for loading and then less material\n",
    "newplot(title='Loading', plotType='Loading-combined')\n",
    "show()\n",
    "\n",
    "# Simulation with changed parameter t2\n",
    "par(stop_adsorption=30); simu(100)\n",
    "\n",
    "# Reset changed parameter\n",
    "par(stop_adsorption=50)"
   ]
  },
  {
   "cell_type": "markdown",
   "id": "0ad27ae7",
   "metadata": {},
   "source": [
    "To the left the inlet loading over time. \n",
    "To the right upper concentration along the column at different times and in steady states finally\n",
    "To the right lower concentrations along the colunn in steady state.\n",
    "\n",
    "We see that a shorter time and then less material makes less of the column capacity used.\n",
    "\n",
    "Note that the flow through the column is constant despite change from sample to just buffer 1, and shown in how the volume of the waste tank increase with time."
   ]
  },
  {
   "cell_type": "markdown",
   "id": "5dfb51bc",
   "metadata": {},
   "source": [
    "## Elution"
   ]
  },
  {
   "cell_type": "code",
   "execution_count": null,
   "id": "ee4b2dc5",
   "metadata": {},
   "outputs": [],
   "source": [
    "# Elution of the column\n",
    "newplot(title='Elution peaks', plotType='Elution')\n",
    "\n",
    "# Operation\n",
    "par(P_in=1, A_in=1.0, E_in=8)\n",
    "par(LFR=12.0, stop_adsorption=50, start_desorption=150, stop_desorption=450)\n",
    "\n",
    "# Simulation\n",
    "simu(550)"
   ]
  },
  {
   "cell_type": "markdown",
   "id": "76e6a77d",
   "metadata": {},
   "source": [
    "Very close to Jonas Figure 14! \n",
    "\n",
    "The upper diagrams shows the column outlet concentrations of P and A over time.\n",
    "\n",
    "The lower diagram shows the sum (or possibly the UV signal) at column outlet as well as the salt concentration. We have some separation between the two peaks.\n",
    "\n",
    "Note that the salt concentration deviates slightly from the linear increse between time 50 to 100. This is due to ion interaction with P and A in the column. The ion-salt concentration is scaled with factor 0.05 to get comparable concentrations to P and A.\n",
    "\n",
    "I have here simulated time 150 of adsorbtion and then started elution. Here is time counted as zero at time of start of elutions. Not sure how long Jonas simulated to get steady state before he did elution."
   ]
  },
  {
   "cell_type": "code",
   "execution_count": null,
   "id": "35d162b6",
   "metadata": {},
   "outputs": [],
   "source": [
    "# More complete visualization of the elution phase and the different flows\n",
    "newplot(title='Elution and corresponding flows', plotType='Elution-combined')\n",
    "show()\n",
    "\n",
    "# Simulation with changed parameter t2\n",
    "par(stop_adsorption=30); simu(550)\n",
    "\n",
    "# Reset changed parameter\n",
    "par(stop_adsorption=50)"
   ]
  },
  {
   "cell_type": "markdown",
   "id": "be32edec",
   "metadata": {},
   "source": [
    "Here a diagram that shows the peaks at the outlet as shown in the previous diagram. Below the flow rates of the three differnet sorces. Here time is 0 at start of adsorbtion and elution starts at time 150.\n",
    "\n",
    "All material goes at the end to the waste tank. Automatic pooling to a product tank is not implemented yet.\n",
    "\n",
    "The comparison with a smaller loading and no effect on the P and A peaks confuse me."
   ]
  },
  {
   "cell_type": "markdown",
   "id": "bd56375e",
   "metadata": {},
   "source": [
    "## Acknowledgment\n",
    "\n",
    "The author thank Karl Johan Brink for sharing his know-how of chromatography operation. \n",
    "He has especially given input of how to parametrize the model in terms often used in the industrial practice."
   ]
  },
  {
   "cell_type": "markdown",
   "id": "8b490bb5",
   "metadata": {},
   "source": [
    "## References\n",
    "\n",
    "1) Månsson, Jonas, \"Control of chromatography comlumn in production scale\", Master thesis TFRT-5599, Department of Automatic Control, LTH, Lund Sweden, 1998.\n",
    "\n",
    "2) Pharmacia LKB Biotechnology. \"Ion Exchange chromatography. Principles and Mathods.\", 3rd edition, 1991."
   ]
  },
  {
   "cell_type": "markdown",
   "id": "18471169",
   "metadata": {},
   "source": [
    "## Appendix"
   ]
  },
  {
   "cell_type": "code",
   "execution_count": 4,
   "id": "1a4c9a72",
   "metadata": {},
   "outputs": [
    {
     "name": "stdout",
     "output_type": "stream",
     "text": [
      "MSL: 3.2.3 - used components: RealInput, RealOutput, CombiTimeTable, Types\n"
     ]
    }
   ],
   "source": [
    "describe('MSL')"
   ]
  },
  {
   "cell_type": "code",
   "execution_count": 5,
   "id": "d45e7ca3",
   "metadata": {},
   "outputs": [
    {
     "name": "stdout",
     "output_type": "stream",
     "text": [
      "\n",
      "System information\n",
      " -OS: Linux\n",
      " -Python: 3.8.16\n",
      " -Scipy: not installed in the notebook\n",
      " -PyFMI: 2.9.8\n",
      " -FMU by: OpenModelica Compiler OpenModelica 1.21.0\n",
      " -FMI: 2.0\n",
      " -Type: FMUModelME2\n",
      " -Name: BPL_IEC.Column_system\n",
      " -Generated: 2023-04-21T10:58:26Z\n",
      " -MSL: 3.2.3\n",
      " -Description: Bioprocess Library version 2.1.1\n",
      " -Interaction: FMU-explore version 0.9.7\n"
     ]
    }
   ],
   "source": [
    "system_info()"
   ]
  },
  {
   "cell_type": "code",
   "execution_count": null,
   "id": "e1ecdaba",
   "metadata": {},
   "outputs": [],
   "source": []
  }
 ],
 "metadata": {
  "kernelspec": {
   "display_name": "Python 3 (ipykernel)",
   "language": "python",
   "name": "python3"
  },
  "language_info": {
   "codemirror_mode": {
    "name": "ipython",
    "version": 3
   },
   "file_extension": ".py",
   "mimetype": "text/x-python",
   "name": "python",
   "nbconvert_exporter": "python",
   "pygments_lexer": "ipython3",
   "version": "3.10.6"
  }
 },
 "nbformat": 4,
 "nbformat_minor": 5
}
